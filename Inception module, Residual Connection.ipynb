{
 "cells": [
  {
   "cell_type": "markdown",
   "metadata": {},
   "source": [
    "## 인셉션 모듈\n",
    "\n",
    "* 3~4개의 가지를 가지고 하나의 concatenate 레이어로 결합되는 형태의 네트워크\n",
    "\n",
    "![\"Inception\"](image/inception.png)\n",
    "\n",
    "\n",
    "### 1x1  Convolution\n",
    "* 일반적으로 각 브랜치의 시작은 **1x1 Convolution Layer**로 시작\n",
    "  * 1x1  Convolution은 사용자가 지정한 만큼의 필터 갯수로 폭을 줄여 사용되는 파라미터 갯수를 줄임. 이렇게 채널 수를 줄였다가 다시 늘리는 부분을 bottleneck 구조라고 함.\n",
    "  * 1x1이기 때문에 공간 방향으로는 정보를 섞지 않고, 채널 방향의 정보들만 혼합된 특성을 계산. 채널 방향과 공간 방향의 특성 학습을 분리할 수 있는 방법\n",
    "\n",
    "![\"bottleneck\"](image/bottleneck.png)"
   ]
  },
  {
   "cell_type": "code",
   "execution_count": 5,
   "metadata": {},
   "outputs": [],
   "source": [
    "from tensorflow.keras.datasets import mnist, cifar100, cifar10\n",
    "from tensorflow.keras.models import Sequential, load_model, Model\n",
    "import tensorflow.keras.backend as K\n",
    "from tensorflow.keras import layers\n",
    "from tensorflow.keras.layers import Dense, Dropout, Flatten, Activation,GlobalAveragePooling2D\n",
    "from tensorflow.keras.layers import Conv2D, MaxPooling2D, Input, concatenate\n",
    "import tensorflow.keras\n",
    "from tensorflow.keras import activations\n",
    "\n",
    "(x_train, y_train), (x_test, y_test) = cifar10.load_data()\n",
    "\n",
    "x_train = x_train.reshape(x_train.shape[0], 32, 32, 3).astype('float32')/255.\n",
    "x_test = x_test.reshape(x_test.shape[0], 32, 32, 3).astype('float32')/255.\n",
    "\n",
    "y_train = tensorflow.keras.utils.to_categorical(y_train, 10)\n",
    "y_test = tensorflow.keras.utils.to_categorical(y_test, 10)"
   ]
  },
  {
   "cell_type": "code",
   "execution_count": null,
   "metadata": {},
   "outputs": [],
   "source": [
    "inputs = Input(shape=(32, 32, 3))\n",
    "\n",
    "branch_a = Conv2D(16, (1, 1), activation=\"relu\", strides=2)(inputs)\n",
    "\n",
    "branch_b = Conv2D(16, (1, 1), activation=\"relu\")(inputs)\n",
    "branch_b = Conv2D(16, (3, 3), padding=\"same\", activation=\"relu\", strides=2)(branch_b)\n",
    "\n",
    "branch_c = Conv2D(16, (1, 1), activation=\"relu\")(inputs)\n",
    "branch_c = Conv2D(16, (5, 5), padding=\"same\", strides=2, activation=\"relu\")(branch_c)\n",
    "\n",
    "branch_d = MaxPooling2D(pool_size=(3, 3), strides=2, padding=\"same\")(inputs)\n",
    "branch_d = Conv2D(16, (1, 1), activation=\"relu\")(branch_d)\n",
    "\n",
    "# concat하는 출력의 차원이 모두 같아야 함\n",
    "concat = concatenate([branch_a, branch_b, branch_c, branch_d], axis=-1)\n",
    "\n",
    "flatten = Flatten()(concat)\n",
    "\n",
    "dense_1 = Dense(512, activation=\"relu\")(flatten)\n",
    "outputs = Dense(10, activation=\"softmax\")(dense_1)\n",
    "\n",
    "model = Model(inputs= inputs, outputs= outputs)\n",
    "\n",
    "model.summary()"
   ]
  },
  {
   "cell_type": "code",
   "execution_count": null,
   "metadata": {},
   "outputs": [],
   "source": [
    "model.compile(loss=tensorflow.keras.losses.categorical_crossentropy,\n",
    "              optimizer=tensorflow.keras.optimizers.Adam(learning_rate=0.001),\n",
    "              metrics=['accuracy'])\n",
    "\n",
    "history = model.fit(x_train, y_train,\n",
    "                    batch_size=128,\n",
    "                    epochs=10,\n",
    "                    verbose=1,\n",
    "                    validation_data=(x_test, y_test))\n",
    "\n",
    "\n",
    "\n",
    "model.evaluate(x_test, y_test)"
   ]
  },
  {
   "cell_type": "markdown",
   "metadata": {},
   "source": [
    "## 잔차 연결 (Residual Connection)\n",
    "\n",
    "* 순서대로 놓인 네트워크를 가로질러 하위 층의 출력을 상위 층의 **출력** 에 덧셈으로 연결\n",
    "\n",
    "* 깊은 네트워크에서 흔히 발생하는 \n",
    "  * 기울기 소실(Vanishing Gradient)\n",
    "  * 표현 병목(Representational Bottleneck, 히든 레이어의 유닛 수 부족으로 정보 전달이 잘 되지 않는 문제)\n",
    "  \n",
    "  두가지 문제를 해결하는데 도움을 줌. 일반적으로 10층 이상의 네트워크에서 사용\n",
    "  \n",
    "![\"skip connection\"](image/residual_connection.png)"
   ]
  },
  {
   "cell_type": "code",
   "execution_count": 6,
   "metadata": {},
   "outputs": [
    {
     "name": "stdout",
     "output_type": "stream",
     "text": [
      "Model: \"model\"\n",
      "__________________________________________________________________________________________________\n",
      "Layer (type)                    Output Shape         Param #     Connected to                     \n",
      "==================================================================================================\n",
      "input_2 (InputLayer)            [(None, 32, 32, 3)]  0                                            \n",
      "__________________________________________________________________________________________________\n",
      "conv2d_3 (Conv2D)               (None, 32, 32, 3)    84          input_2[0][0]                    \n",
      "__________________________________________________________________________________________________\n",
      "conv2d_4 (Conv2D)               (None, 32, 32, 3)    84          conv2d_3[0][0]                   \n",
      "__________________________________________________________________________________________________\n",
      "conv2d_5 (Conv2D)               (None, 32, 32, 3)    84          conv2d_4[0][0]                   \n",
      "__________________________________________________________________________________________________\n",
      "add (Add)                       (None, 32, 32, 3)    0           conv2d_5[0][0]                   \n",
      "                                                                 input_2[0][0]                    \n",
      "__________________________________________________________________________________________________\n",
      "flatten (Flatten)               (None, 3072)         0           add[0][0]                        \n",
      "__________________________________________________________________________________________________\n",
      "dense (Dense)                   (None, 128)          393344      flatten[0][0]                    \n",
      "__________________________________________________________________________________________________\n",
      "dense_1 (Dense)                 (None, 10)           1290        dense[0][0]                      \n",
      "==================================================================================================\n",
      "Total params: 394,886\n",
      "Trainable params: 394,886\n",
      "Non-trainable params: 0\n",
      "__________________________________________________________________________________________________\n"
     ]
    }
   ],
   "source": [
    "# 특성 맵의 크기가 같을때\n",
    "\n",
    "inputs = Input(shape=(32, 32, 3))\n",
    "\n",
    "main_1 = Conv2D(3, (3, 3), activation=\"relu\", padding=\"same\")(inputs)\n",
    "main_2 = Conv2D(3, (3, 3), activation=\"relu\", padding=\"same\")(main_1)\n",
    "main_3 = Conv2D(3, (3, 3), activation=\"relu\", padding=\"same\")(main_2)\n",
    "\n",
    "added = layers.add([main_3, inputs])\n",
    "\n",
    "flatten = Flatten()(added)\n",
    "\n",
    "dense_1 = Dense(128, activation=\"relu\")(flatten)\n",
    "outputs = Dense(10, activation=\"softmax\")(dense_1)\n",
    "\n",
    "model = Model(inputs= inputs, outputs= outputs)\n",
    "\n",
    "model.summary()"
   ]
  },
  {
   "cell_type": "code",
   "execution_count": 7,
   "metadata": {},
   "outputs": [
    {
     "name": "stdout",
     "output_type": "stream",
     "text": [
      "Model: \"model_1\"\n",
      "__________________________________________________________________________________________________\n",
      "Layer (type)                    Output Shape         Param #     Connected to                     \n",
      "==================================================================================================\n",
      "input_3 (InputLayer)            [(None, 32, 32, 3)]  0                                            \n",
      "__________________________________________________________________________________________________\n",
      "conv2d_6 (Conv2D)               (None, 32, 32, 3)    84          input_3[0][0]                    \n",
      "__________________________________________________________________________________________________\n",
      "conv2d_7 (Conv2D)               (None, 32, 32, 6)    168         conv2d_6[0][0]                   \n",
      "__________________________________________________________________________________________________\n",
      "max_pooling2d (MaxPooling2D)    (None, 16, 16, 6)    0           conv2d_7[0][0]                   \n",
      "__________________________________________________________________________________________________\n",
      "conv2d_8 (Conv2D)               (None, 16, 16, 6)    42          max_pooling2d[0][0]              \n",
      "__________________________________________________________________________________________________\n",
      "add_1 (Add)                     (None, 16, 16, 6)    0           max_pooling2d[0][0]              \n",
      "                                                                 conv2d_8[0][0]                   \n",
      "__________________________________________________________________________________________________\n",
      "flatten_1 (Flatten)             (None, 1536)         0           add_1[0][0]                      \n",
      "__________________________________________________________________________________________________\n",
      "dense_2 (Dense)                 (None, 128)          196736      flatten_1[0][0]                  \n",
      "__________________________________________________________________________________________________\n",
      "dense_3 (Dense)                 (None, 10)           1290        dense_2[0][0]                    \n",
      "==================================================================================================\n",
      "Total params: 198,320\n",
      "Trainable params: 198,320\n",
      "Non-trainable params: 0\n",
      "__________________________________________________________________________________________________\n"
     ]
    }
   ],
   "source": [
    "# 특성 맵의 크기가 다를때 \n",
    "\n",
    "inputs = Input(shape=(32, 32, 3))\n",
    "\n",
    "main_1 = Conv2D(3, (3, 3), activation=\"relu\", padding=\"same\")(inputs)\n",
    "main_2 = Conv2D(6, (3, 3), activation=\"relu\", padding=\"same\")(main_1)\n",
    "main_3 = MaxPooling2D(pool_size=(2, 2))(main_2)\n",
    "\n",
    "# 임의의 레이어를 활용하여(ex. 1x1 Conv) 차원을 맞춰줘야 함\n",
    "residual = Conv2D(6, (1, 1))(main_3)\n",
    "\n",
    "added = layers.add([main_3, residual])\n",
    "\n",
    "flatten = Flatten()(added)\n",
    "\n",
    "dense_1 = Dense(128, activation=\"relu\")(flatten)\n",
    "outputs = Dense(10, activation=\"softmax\")(dense_1)\n",
    "\n",
    "model = Model(inputs= inputs, outputs= outputs)\n",
    "\n",
    "model.summary()"
   ]
  }
 ],
 "metadata": {
  "kernelspec": {
   "display_name": "Python 3",
   "language": "python",
   "name": "python3"
  },
  "language_info": {
   "codemirror_mode": {
    "name": "ipython",
    "version": 3
   },
   "file_extension": ".py",
   "mimetype": "text/x-python",
   "name": "python",
   "nbconvert_exporter": "python",
   "pygments_lexer": "ipython3",
   "version": "3.7.1"
  }
 },
 "nbformat": 4,
 "nbformat_minor": 4
}
