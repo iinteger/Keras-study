{
 "cells": [
  {
   "cell_type": "markdown",
   "metadata": {},
   "source": [
    "## 인셉션 모듈\n",
    "\n",
    "* 3~4개의 가지를 가지고 하나의 concatenate 레이어로 결합되는 형태의 네트워크\n",
    "\n",
    "![\"Inception\"](image/inception.png)\n",
    "\n",
    "\n",
    "### 1x1  Convolution\n",
    "* 일반적으로 각 브랜치의 시작은 **1x1 Convolution Layer**로 시작\n",
    "  * 1x1  Convolution은 사용자가 지정한 만큼의 필터 갯수로 폭을 줄여 사용되는 파라미터 갯수를 줄임. 이렇게 채널 수를 줄였다가 다시 늘리는 부분을 bottleneck 구조라고 함.\n",
    "  * 1x1이기 때문에 공간 방향으로는 정보를 섞지 않고, 채널 방향의 정보들만 혼합된 특성을 계산. 채널 방향과 공간 방향의 특성 학습을 분리할 수 있는 방법\n",
    "\n",
    "![\"bottleneck\"](image/bottleneck.png)"
   ]
  },
  {
   "cell_type": "code",
   "execution_count": null,
   "metadata": {},
   "outputs": [],
   "source": []
  }
 ],
 "metadata": {
  "kernelspec": {
   "display_name": "Python 3",
   "language": "python",
   "name": "python3"
  },
  "language_info": {
   "codemirror_mode": {
    "name": "ipython",
    "version": 3
   },
   "file_extension": ".py",
   "mimetype": "text/x-python",
   "name": "python",
   "nbconvert_exporter": "python",
   "pygments_lexer": "ipython3",
   "version": "3.7.7"
  }
 },
 "nbformat": 4,
 "nbformat_minor": 4
}
