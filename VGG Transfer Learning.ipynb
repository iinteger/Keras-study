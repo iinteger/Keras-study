{
 "cells": [
  {
   "cell_type": "code",
   "execution_count": 4,
   "metadata": {},
   "outputs": [],
   "source": [
    "# 사전 훈련된 모델 생성\n",
    "\n",
    "from tensorflow.keras.applications import VGG16\n",
    "\n",
    "conv_base = VGG16(weights='imagenet',\n",
    "                  include_top=False,\n",
    "                  input_shape=(150, 150, 3))"
   ]
  },
  {
   "cell_type": "markdown",
   "metadata": {},
   "source": [
    "### 특성 추출 : 훈련된 합성곱층을 사용해 새로운 전결합층을 훈련하는것\n",
    "1. 훈련된 합성곱층을 사용해 특징을 추출한 후, 전결합층 모델을 별도로 훈련.\n",
    "> 데이터가 합성곱층을 맨 처음 특징을 추출하는 한번만 거치기 때문에 속도가 굉장히 빠르나, 데이터 증식을 사용하지 못함\n",
    "\n",
    "2. 훈련된 합성곱층에 전결합층을 결합하여 엔드 투 엔드로 훈련.\n",
    "> 데이터가 매번 합성곱층을 거쳐야 하기 때문에 속도가 느리지만, 데이터 증식을 사용하여 훈련할 수 있음"
   ]
  },
  {
   "cell_type": "code",
   "execution_count": 4,
   "metadata": {},
   "outputs": [
    {
     "name": "stdout",
     "output_type": "stream",
     "text": [
      "Found 2000 images belonging to 2 classes.\n",
      "Found 1000 images belonging to 2 classes.\n",
      "Found 1000 images belonging to 2 classes.\n",
      "feature extract finish\n"
     ]
    }
   ],
   "source": [
    "# 특성 추출 1-1 : 훈련된 합성곱층을 사용해 전결합층에 넣을 특징을 추출\n",
    "\n",
    "import os\n",
    "import numpy as np\n",
    "from tensorflow.keras.preprocessing.image import ImageDataGenerator\n",
    "\n",
    "base_dir = './datasets/cats_and_dogs_small'\n",
    "\n",
    "train_dir = os.path.join(base_dir, 'train')\n",
    "validation_dir = os.path.join(base_dir, 'validation')\n",
    "test_dir = os.path.join(base_dir, 'test')\n",
    "\n",
    "datagen = ImageDataGenerator(rescale=1./255)\n",
    "batch_size = 20\n",
    "\n",
    "def extract_features(directory, sample_count):\n",
    "    features = np.zeros(shape=(sample_count, 4, 4, 512))\n",
    "    labels = np.zeros(shape=(sample_count))\n",
    "    generator = datagen.flow_from_directory(\n",
    "        directory,\n",
    "        target_size=(150, 150),\n",
    "        batch_size=batch_size,\n",
    "        class_mode='binary')\n",
    "    i = 0\n",
    "    for inputs_batch, labels_batch in generator:\n",
    "        features_batch = conv_base.predict(inputs_batch)\n",
    "        features[i * batch_size : (i + 1) * batch_size] = features_batch\n",
    "        labels[i * batch_size : (i + 1) * batch_size] = labels_batch\n",
    "        i += 1\n",
    "        if i * batch_size >= sample_count:\n",
    "            # 제너레이터는 루프 안에서 무한하게 데이터를 만들어내므로 모든 이미지를 한 번씩 처리하고 나면 중지합니다\n",
    "            break\n",
    "    return features, labels\n",
    "\n",
    "# 특징 추출\n",
    "train_features, train_labels = extract_features(train_dir, 2000)\n",
    "validation_features, validation_labels = extract_features(validation_dir, 1000)\n",
    "test_features, test_labels = extract_features(test_dir, 1000)\n",
    "\n",
    "print(\"feature extract finish\")"
   ]
  },
  {
   "cell_type": "code",
   "execution_count": 5,
   "metadata": {},
   "outputs": [
    {
     "name": "stdout",
     "output_type": "stream",
     "text": [
      "flatten finish\n"
     ]
    }
   ],
   "source": [
    "# data flatten\n",
    "\n",
    "train_features = np.reshape(train_features, (2000, 4 * 4 * 512))\n",
    "validation_features = np.reshape(validation_features, (1000, 4 * 4 * 512))\n",
    "test_features = np.reshape(test_features, (1000, 4 * 4 * 512))\n",
    "\n",
    "print(\"flatten finish\")"
   ]
  },
  {
   "cell_type": "code",
   "execution_count": 9,
   "metadata": {},
   "outputs": [
    {
     "name": "stdout",
     "output_type": "stream",
     "text": [
      "Epoch 1/30\n",
      "100/100 [==============================] - 1s 11ms/step - loss: 0.6136 - acc: 0.6665 - val_loss: 0.4357 - val_acc: 0.8260\n",
      "Epoch 2/30\n",
      "100/100 [==============================] - 1s 10ms/step - loss: 0.4290 - acc: 0.7985 - val_loss: 0.3717 - val_acc: 0.8470\n",
      "Epoch 3/30\n",
      "100/100 [==============================] - 1s 10ms/step - loss: 0.3463 - acc: 0.8545 - val_loss: 0.3310 - val_acc: 0.8630\n",
      "Epoch 4/30\n",
      "100/100 [==============================] - 1s 10ms/step - loss: 0.3127 - acc: 0.8705 - val_loss: 0.3139 - val_acc: 0.8700\n",
      "Epoch 5/30\n",
      "100/100 [==============================] - 1s 10ms/step - loss: 0.2836 - acc: 0.8825 - val_loss: 0.3184 - val_acc: 0.8660\n",
      "Epoch 6/30\n",
      "100/100 [==============================] - 1s 10ms/step - loss: 0.2659 - acc: 0.9000 - val_loss: 0.2891 - val_acc: 0.8820\n",
      "Epoch 7/30\n",
      "100/100 [==============================] - 1s 10ms/step - loss: 0.2496 - acc: 0.9030 - val_loss: 0.2868 - val_acc: 0.8800\n",
      "Epoch 8/30\n",
      "100/100 [==============================] - 1s 10ms/step - loss: 0.2321 - acc: 0.9115 - val_loss: 0.2741 - val_acc: 0.8860\n",
      "Epoch 9/30\n",
      "100/100 [==============================] - 1s 10ms/step - loss: 0.2183 - acc: 0.9225 - val_loss: 0.2696 - val_acc: 0.8880\n",
      "Epoch 10/30\n",
      "100/100 [==============================] - 1s 10ms/step - loss: 0.2127 - acc: 0.9220 - val_loss: 0.2666 - val_acc: 0.8890\n",
      "Epoch 11/30\n",
      "100/100 [==============================] - 1s 10ms/step - loss: 0.1984 - acc: 0.9275 - val_loss: 0.2671 - val_acc: 0.8850\n",
      "Epoch 12/30\n",
      "100/100 [==============================] - 1s 10ms/step - loss: 0.1901 - acc: 0.9290 - val_loss: 0.2595 - val_acc: 0.8870\n",
      "Epoch 13/30\n",
      "100/100 [==============================] - 1s 10ms/step - loss: 0.1798 - acc: 0.9350 - val_loss: 0.2571 - val_acc: 0.8890\n",
      "Epoch 14/30\n",
      "100/100 [==============================] - 1s 10ms/step - loss: 0.1781 - acc: 0.9375 - val_loss: 0.2552 - val_acc: 0.8880\n",
      "Epoch 15/30\n",
      "100/100 [==============================] - 1s 10ms/step - loss: 0.1695 - acc: 0.9420 - val_loss: 0.2536 - val_acc: 0.8850\n",
      "Epoch 16/30\n",
      "100/100 [==============================] - 1s 10ms/step - loss: 0.1653 - acc: 0.9395 - val_loss: 0.2624 - val_acc: 0.8880\n",
      "Epoch 17/30\n",
      "100/100 [==============================] - 1s 10ms/step - loss: 0.1541 - acc: 0.9490 - val_loss: 0.2536 - val_acc: 0.8880\n",
      "Epoch 18/30\n",
      "100/100 [==============================] - 1s 10ms/step - loss: 0.1531 - acc: 0.9505 - val_loss: 0.2565 - val_acc: 0.8930\n",
      "Epoch 19/30\n",
      "100/100 [==============================] - 1s 10ms/step - loss: 0.1419 - acc: 0.9505 - val_loss: 0.2510 - val_acc: 0.8820\n",
      "Epoch 20/30\n",
      "100/100 [==============================] - 1s 10ms/step - loss: 0.1420 - acc: 0.9565 - val_loss: 0.2499 - val_acc: 0.8870\n",
      "Epoch 21/30\n",
      "100/100 [==============================] - 1s 10ms/step - loss: 0.1326 - acc: 0.9530 - val_loss: 0.2501 - val_acc: 0.8910\n",
      "Epoch 22/30\n",
      "100/100 [==============================] - 1s 10ms/step - loss: 0.1253 - acc: 0.9605 - val_loss: 0.2524 - val_acc: 0.8940\n",
      "Epoch 23/30\n",
      "100/100 [==============================] - 1s 10ms/step - loss: 0.1259 - acc: 0.9580 - val_loss: 0.2481 - val_acc: 0.8920\n",
      "Epoch 24/30\n",
      "100/100 [==============================] - 1s 10ms/step - loss: 0.1199 - acc: 0.9570 - val_loss: 0.2540 - val_acc: 0.8900\n",
      "Epoch 25/30\n",
      "100/100 [==============================] - 1s 10ms/step - loss: 0.1155 - acc: 0.9650 - val_loss: 0.2490 - val_acc: 0.8960\n",
      "Epoch 26/30\n",
      "100/100 [==============================] - 1s 10ms/step - loss: 0.1135 - acc: 0.9655 - val_loss: 0.2491 - val_acc: 0.8960\n",
      "Epoch 27/30\n",
      "100/100 [==============================] - 1s 10ms/step - loss: 0.1073 - acc: 0.9685 - val_loss: 0.2501 - val_acc: 0.8860\n",
      "Epoch 28/30\n",
      "100/100 [==============================] - 1s 10ms/step - loss: 0.1072 - acc: 0.9660 - val_loss: 0.2496 - val_acc: 0.8950\n",
      "Epoch 29/30\n",
      "100/100 [==============================] - 1s 10ms/step - loss: 0.0985 - acc: 0.9700 - val_loss: 0.2489 - val_acc: 0.8950\n",
      "Epoch 30/30\n",
      "100/100 [==============================] - 1s 10ms/step - loss: 0.0980 - acc: 0.9715 - val_loss: 0.2497 - val_acc: 0.8940\n",
      "training finish\n"
     ]
    }
   ],
   "source": [
    "# 특성 추출 1-2 : 결합층을 생성한 데이터로 훈련\n",
    "\n",
    "from tensorflow.keras import models\n",
    "from tensorflow.keras import layers\n",
    "from tensorflow.keras import optimizers\n",
    "\n",
    "model = models.Sequential()\n",
    "model.add(layers.Dense(256, activation='relu', input_dim=4 * 4 * 512))\n",
    "model.add(layers.Dropout(0.5))\n",
    "model.add(layers.Dense(1, activation='sigmoid'))\n",
    "\n",
    "model.compile(optimizer=optimizers.RMSprop(lr=2e-5),\n",
    "              loss='binary_crossentropy',\n",
    "              metrics=['acc'])\n",
    "\n",
    "history = model.fit(train_features, train_labels,\n",
    "                    epochs=30,\n",
    "                    batch_size=20,\n",
    "                    validation_data=(validation_features, validation_labels))\n",
    "\n",
    "print(\"training finish\")"
   ]
  },
  {
   "cell_type": "code",
   "execution_count": 11,
   "metadata": {},
   "outputs": [
    {
     "data": {
      "image/png": "[encoded data removed]",
      "text/plain": [
       "<Figure size 432x288 with 1 Axes>"
      ]
     },
     "metadata": {
      "needs_background": "light"
     },
     "output_type": "display_data"
    },
    {
     "data": {
      "image/png": "[encoded data removed]",
      "text/plain": [
       "<Figure size 432x288 with 1 Axes>"
      ]
     },
     "metadata": {
      "needs_background": "light"
     },
     "output_type": "display_data"
    }
   ],
   "source": [
    "# 특성 추출 1-3 : 결과 그래프\n",
    "\n",
    "import matplotlib.pyplot as plt\n",
    "\n",
    "acc = history.history['acc']\n",
    "val_acc = history.history['val_acc']\n",
    "loss = history.history['loss']\n",
    "val_loss = history.history['val_loss']\n",
    "\n",
    "epochs = range(len(acc))\n",
    "\n",
    "plt.plot(epochs, acc, 'bo', label='Training acc')\n",
    "plt.plot(epochs, val_acc, 'b', label='Validation acc')\n",
    "plt.title('Training and validation accuracy')\n",
    "plt.legend()\n",
    "\n",
    "plt.figure()\n",
    "\n",
    "plt.plot(epochs, loss, 'bo', label='Training loss')\n",
    "plt.plot(epochs, val_loss, 'b', label='Validation loss')\n",
    "plt.title('Training and validation loss')\n",
    "plt.legend()\n",
    "\n",
    "plt.show()"
   ]
  },
  {
   "cell_type": "code",
   "execution_count": 7,
   "metadata": {},
   "outputs": [],
   "source": [
    "# 특성 추출 2-1 : 합성곱층과 새로운 전결합층을 붙여서 새로 훈련(증식 사용)\n",
    "\n",
    "from tensorflow.keras import models\n",
    "from tensorflow.keras import layers\n",
    "from tensorflow.keras import optimizers\n",
    "\n",
    "model = models.Sequential()\n",
    "model.add(conv_base)\n",
    "model.add(layers.Flatten())\n",
    "model.add(layers.Dense(256, activation='relu'))\n",
    "model.add(layers.Dense(1, activation='sigmoid'))"
   ]
  },
  {
   "cell_type": "code",
   "execution_count": 8,
   "metadata": {},
   "outputs": [],
   "source": [
    "# 특성 추출 2-2 : 학습 전에 합성곱층을 꼭 동결시키고 다시 컴파일 해야함\n",
    "conv_base.trainable = False\n",
    "\n",
    "model.compile(loss='binary_crossentropy',\n",
    "              optimizer=optimizers.RMSprop(lr=2e-5),\n",
    "              metrics=['acc'])"
   ]
  },
  {
   "cell_type": "code",
   "execution_count": 9,
   "metadata": {},
   "outputs": [
    {
     "name": "stdout",
     "output_type": "stream",
     "text": [
      "Found 2000 images belonging to 2 classes.\n",
      "Found 1000 images belonging to 2 classes.\n",
      "WARNING:tensorflow:From <ipython-input-9-2d8f409d928d>:43: Model.fit_generator (from tensorflow.python.keras.engine.training) is deprecated and will be removed in a future version.\n",
      "Instructions for updating:\n",
      "Please use Model.fit, which supports generators.\n",
      "Epoch 1/10\n",
      "100/100 - 58s - loss: 0.5484 - acc: 0.7235 - val_loss: 0.4058 - val_acc: 0.8440\n",
      "Epoch 2/10\n",
      "100/100 - 63s - loss: 0.4064 - acc: 0.8405 - val_loss: 0.3339 - val_acc: 0.8680\n",
      "Epoch 3/10\n",
      "100/100 - 63s - loss: 0.3582 - acc: 0.8535 - val_loss: 0.3040 - val_acc: 0.8800\n",
      "Epoch 4/10\n",
      "100/100 - 63s - loss: 0.3369 - acc: 0.8530 - val_loss: 0.2873 - val_acc: 0.8840\n",
      "Epoch 5/10\n",
      "100/100 - 62s - loss: 0.3048 - acc: 0.8750 - val_loss: 0.2746 - val_acc: 0.8840\n",
      "Epoch 6/10\n",
      "100/100 - 63s - loss: 0.2851 - acc: 0.8790 - val_loss: 0.2604 - val_acc: 0.8880\n",
      "Epoch 7/10\n",
      "100/100 - 63s - loss: 0.2796 - acc: 0.8815 - val_loss: 0.2710 - val_acc: 0.8910\n",
      "Epoch 8/10\n",
      "100/100 - 63s - loss: 0.2614 - acc: 0.8920 - val_loss: 0.2468 - val_acc: 0.8970\n",
      "Epoch 9/10\n",
      "100/100 - 64s - loss: 0.2589 - acc: 0.8895 - val_loss: 0.2448 - val_acc: 0.8970\n",
      "Epoch 10/10\n",
      "100/100 - 65s - loss: 0.2524 - acc: 0.8960 - val_loss: 0.2513 - val_acc: 0.9010\n",
      "training finish\n"
     ]
    }
   ],
   "source": [
    "# 특성 추출 2-3: 데이터 증식\n",
    "import os\n",
    "import numpy as np\n",
    "from tensorflow.keras.preprocessing.image import ImageDataGenerator\n",
    "\n",
    "base_dir = './datasets/cats_and_dogs_small'\n",
    "\n",
    "train_dir = os.path.join(base_dir, 'train')\n",
    "validation_dir = os.path.join(base_dir, 'validation')\n",
    "test_dir = os.path.join(base_dir, 'test')\n",
    "\n",
    "\n",
    "train_datagen = ImageDataGenerator(\n",
    "      rescale=1./255,\n",
    "      rotation_range=20,\n",
    "      width_shift_range=0.1,\n",
    "      height_shift_range=0.1,\n",
    "      shear_range=0.1,\n",
    "      zoom_range=0.1,\n",
    "      horizontal_flip=True,\n",
    "      fill_mode='nearest')\n",
    "\n",
    "# 검증 데이터는 증식되어서는 안 됩니다!\n",
    "test_datagen = ImageDataGenerator(rescale=1./255)\n",
    "\n",
    "train_generator = train_datagen.flow_from_directory(\n",
    "        # 타깃 디렉터리\n",
    "        train_dir,\n",
    "        # 모든 이미지의 크기를 150 × 150로 변경합니다\n",
    "        target_size=(150, 150),\n",
    "        batch_size=20,\n",
    "        # binary_crossentropy 손실을 사용하므로 이진 레이블이 필요합니다\n",
    "        class_mode='binary')\n",
    "\n",
    "validation_generator = test_datagen.flow_from_directory(\n",
    "        validation_dir,\n",
    "        target_size=(150, 150),\n",
    "        batch_size=20,\n",
    "        class_mode='binary')\n",
    "\n",
    "\n",
    "\n",
    "history = model.fit_generator(\n",
    "      train_generator,\n",
    "      steps_per_epoch=100,\n",
    "      epochs=10,\n",
    "      validation_data=validation_generator,\n",
    "      validation_steps=50,\n",
    "      verbose=2)\n",
    "\n",
    "model.save(\"cats_vs_dogs.h5\")\n",
    "print(\"training finish\")"
   ]
  },
  {
   "cell_type": "code",
   "execution_count": null,
   "metadata": {},
   "outputs": [],
   "source": [
    "# 특성 추출 2-4 : 결과 그래프\n",
    "\n",
    "import matplotlib.pyplot as plt\n",
    "\n",
    "acc = history.history['acc']\n",
    "val_acc = history.history['val_acc']\n",
    "loss = history.history['loss']\n",
    "val_loss = history.history['val_loss']\n",
    "\n",
    "epochs = range(len(acc))\n",
    "\n",
    "plt.plot(epochs, acc, 'bo', label='Training acc')\n",
    "plt.plot(epochs, val_acc, 'b', label='Validation acc')\n",
    "plt.title('Training and validation accuracy')\n",
    "plt.legend()\n",
    "\n",
    "plt.figure()\n",
    "\n",
    "plt.plot(epochs, loss, 'bo', label='Training loss')\n",
    "plt.plot(epochs, val_loss, 'b', label='Validation loss')\n",
    "plt.title('Training and validation loss')\n",
    "plt.legend()\n",
    "\n",
    "plt.show()"
   ]
  },
  {
   "cell_type": "markdown",
   "metadata": {},
   "source": [
    "### 파인튜닝 : 전결합층과 함께 합성곱층의 일부를 재훈련하는것\n",
    "\n",
    "1. 사전 훈련된 기반 네트워크에 새로운 네트워크 추가\n",
    "2. 기반 네트워크 동결 후 새로 추가한 네트워크 훈련\n",
    "3. 기반 네트워크의 일부 층 동결 해제 후 새로 추가한 네트워크와 함께 훈련\n",
    "\n",
    "- 일반적으로 상위 층에 있는 합성곱층을 재훈련하는데, 이는 하위 층들은 좀 더 일반적이고 재사용 가능한 특성을 인코딩하고, 상위 층들은 좀 더 훈련 데이터에 특화된 특성을 인코딩하기 때문\n",
    "\n",
    "\n"
   ]
  },
  {
   "cell_type": "code",
   "execution_count": null,
   "metadata": {},
   "outputs": [],
   "source": [
    "# 파인튜닝 1 : block5_conv1을 포함한 상위 3개 층의 동결 해제\n",
    "\n",
    "conv_base.trainable = True\n",
    "\n",
    "set_trainable = False\n",
    "for layer in conv_base.layers:\n",
    "    if layer.name == 'block5_conv1':\n",
    "        set_trainable = True\n",
    "    if set_trainable:\n",
    "        layer.trainable = True\n",
    "    else:\n",
    "        layer.trainable = False"
   ]
  },
  {
   "cell_type": "code",
   "execution_count": null,
   "metadata": {},
   "outputs": [],
   "source": [
    "# 학습률을 낮춰서 재 컴파일 후 훈련.\n",
    "# 학습률이 크면 이미 훈련된 네트워크에 손실이 생길 수 있음\n",
    "\n",
    "model.compile(loss='binary_crossentropy',\n",
    "              optimizer=optimizers.RMSprop(lr=1e-5),\n",
    "              metrics=['acc'])\n",
    "\n",
    "history = model.fit_generator(\n",
    "      train_generator,\n",
    "      steps_per_epoch=100,\n",
    "      epochs=100,\n",
    "      validation_data=validation_generator,\n",
    "      validation_steps=50)"
   ]
  },
  {
   "cell_type": "code",
   "execution_count": null,
   "metadata": {},
   "outputs": [],
   "source": [
    "# 파인 튜닝 2: 결과 그래프\n",
    "\n",
    "import matplotlib.pyplot as plt\n",
    "\n",
    "acc = history.history['acc']\n",
    "val_acc = history.history['val_acc']\n",
    "loss = history.history['loss']\n",
    "val_loss = history.history['val_loss']\n",
    "\n",
    "epochs = range(len(acc))\n",
    "\n",
    "plt.plot(epochs, acc, 'bo', label='Training acc')\n",
    "plt.plot(epochs, val_acc, 'b', label='Validation acc')\n",
    "plt.title('Training and validation accuracy')\n",
    "plt.legend()\n",
    "\n",
    "plt.figure()\n",
    "\n",
    "plt.plot(epochs, loss, 'bo', label='Training loss')\n",
    "plt.plot(epochs, val_loss, 'b', label='Validation loss')\n",
    "plt.title('Training and validation loss')\n",
    "plt.legend()\n",
    "\n",
    "plt.show()"
   ]
  },
  {
   "cell_type": "code",
   "execution_count": null,
   "metadata": {},
   "outputs": [],
   "source": [
    "# 그래프를 쉽게 보기 위해 지수 이동 평균 적용\n",
    "\n",
    "def smooth_curve(points, factor=0.8):\n",
    "  smoothed_points = []\n",
    "  for point in points:\n",
    "    if smoothed_points:\n",
    "      previous = smoothed_points[-1]\n",
    "      smoothed_points.append(previous * factor + point * (1 - factor))\n",
    "    else:\n",
    "      smoothed_points.append(point)\n",
    "  return smoothed_points\n",
    "\n",
    "plt.plot(epochs,\n",
    "         smooth_curve(acc), 'bo', label='Smoothed training acc')\n",
    "plt.plot(epochs,\n",
    "         smooth_curve(val_acc), 'b', label='Smoothed validation acc')\n",
    "plt.title('Training and validation accuracy')\n",
    "plt.legend()\n",
    "\n",
    "plt.figure()\n",
    "\n",
    "plt.plot(epochs,\n",
    "         smooth_curve(loss), 'bo', label='Smoothed training loss')\n",
    "plt.plot(epochs,\n",
    "         smooth_curve(val_loss), 'b', label='Smoothed validation loss')\n",
    "plt.title('Training and validation loss')\n",
    "plt.legend()\n",
    "\n",
    "plt.show()"
   ]
  },
  {
   "cell_type": "code",
   "execution_count": null,
   "metadata": {},
   "outputs": [],
   "source": [
    "# 테스트 데이터로 평가\n",
    "\n",
    "test_generator = test_datagen.flow_from_directory(\n",
    "        test_dir,\n",
    "        target_size=(150, 150),\n",
    "        batch_size=20,\n",
    "        class_mode='binary')\n",
    "\n",
    "test_loss, test_acc = model.evaluate_generator(test_generator, steps=50)\n",
    "print('test acc:', test_acc)"
   ]
  }
 ],
 "metadata": {
  "kernelspec": {
   "display_name": "Python 3",
   "language": "python",
   "name": "python3"
  },
  "language_info": {
   "codemirror_mode": {
    "name": "ipython",
    "version": 3
   },
   "file_extension": ".py",
   "mimetype": "text/x-python",
   "name": "python",
   "nbconvert_exporter": "python",
   "pygments_lexer": "ipython3",
   "version": "3.8.3"
  }
 },
 "nbformat": 4,
 "nbformat_minor": 4
}
